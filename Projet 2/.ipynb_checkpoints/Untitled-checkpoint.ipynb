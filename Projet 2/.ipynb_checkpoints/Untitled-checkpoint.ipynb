{
 "cells": [
  {
   "cell_type": "code",
   "execution_count": 1,
   "id": "cb82c7a6",
   "metadata": {},
   "outputs": [],
   "source": [
    "# Importation des librairies\n",
    "import csv\n",
    "import pandas as pd\n",
    "import matplotlib.pyplot as plt\n",
    "import os\n",
    "import numpy as np"
   ]
  },
  {
   "cell_type": "code",
   "execution_count": 2,
   "id": "43079fbc",
   "metadata": {},
   "outputs": [],
   "source": [
    "# Importation de mes fonctions\n",
    "#from Data_analysis import DataAnalysis\n",
    "from Fonctions.fonctions import convert_to_sqlite_and_analyze, check_missing_and_plot, svm_classification, add_mean_column"
   ]
  },
  {
   "cell_type": "code",
   "execution_count": 3,
   "id": "44600377",
   "metadata": {},
   "outputs": [],
   "source": [
    "from Fonctions.classe import Preprocessing"
   ]
  },
  {
   "cell_type": "code",
   "execution_count": 4,
   "id": "39727c7a",
   "metadata": {},
   "outputs": [],
   "source": [
    "data = pd.read_csv('JulieDandrimont_données_psy3019-H23_20230212_Pandemic.csv', index_col=0)\n",
    "#colonnes \n",
    "data = data.replace(' ', np.nan)"
   ]
  },
  {
   "cell_type": "code",
   "execution_count": 5,
   "id": "d32093d1",
   "metadata": {},
   "outputs": [
    {
     "name": "stdout",
     "output_type": "stream",
     "text": [
      "Les colonnes suivantes contiennent des valeurs manquantes :\n",
      " age           1825\n",
      "raceD         1843\n",
      "canada        1834\n",
      "provinceCA    2171\n",
      "sex           2502\n",
      "              ... \n",
      "Coping_38     4164\n",
      "Coping_39     4164\n",
      "Coping_40     4169\n",
      "Coping_41     4169\n",
      "Coping_42     4173\n",
      "Length: 77, dtype: int64\n",
      "Aucune valeur aberrante détectée dans la base de données.\n"
     ]
    }
   ],
   "source": [
    "preprocessor = Preprocessing(data)\n",
    "cleaned_data = preprocessor.preprocess(threshold=2.5)"
   ]
  },
  {
   "cell_type": "code",
   "execution_count": 6,
   "id": "0084e1e8",
   "metadata": {},
   "outputs": [
    {
     "name": "stdout",
     "output_type": "stream",
     "text": [
      "Statistiques descriptives :\n",
      "                  id               date  timepandemic   age raceD canada  \\\n",
      "count   9615.000000               9615   9615.000000  7790  7772   7781   \n",
      "unique          NaN               9597           NaN    79     2      2   \n",
      "top             NaN  7/1/2021 19:46:46           NaN    37     1      1   \n",
      "freq            NaN                  2           NaN   195  6975   7447   \n",
      "mean    4809.163183                NaN    488.594904   NaN   NaN    NaN   \n",
      "std     2776.825330                NaN    225.527475   NaN   NaN    NaN   \n",
      "min        1.000000                NaN    130.000000   NaN   NaN    NaN   \n",
      "25%     2404.500000                NaN    235.000000   NaN   NaN    NaN   \n",
      "50%     4809.000000                NaN    517.000000   NaN   NaN    NaN   \n",
      "75%     7212.500000                NaN    683.000000   NaN   NaN    NaN   \n",
      "max     9621.000000                NaN    919.000000   NaN   NaN    NaN   \n",
      "\n",
      "       provinceCA   sex genderid genderD  ... Coping_33 Coping_34 Coping_35  \\\n",
      "count        7444  7113     7110    7105  ...      5452      5445      5446   \n",
      "unique         13     2        4       2  ...         4         4         4   \n",
      "top            11     1        1       0  ...         1         1         1   \n",
      "freq         4860  5336     4922    6482  ...      3173      2773      1835   \n",
      "mean          NaN   NaN      NaN     NaN  ...       NaN       NaN       NaN   \n",
      "std           NaN   NaN      NaN     NaN  ...       NaN       NaN       NaN   \n",
      "min           NaN   NaN      NaN     NaN  ...       NaN       NaN       NaN   \n",
      "25%           NaN   NaN      NaN     NaN  ...       NaN       NaN       NaN   \n",
      "50%           NaN   NaN      NaN     NaN  ...       NaN       NaN       NaN   \n",
      "75%           NaN   NaN      NaN     NaN  ...       NaN       NaN       NaN   \n",
      "max           NaN   NaN      NaN     NaN  ...       NaN       NaN       NaN   \n",
      "\n",
      "       Coping_36 Coping_37 Coping_38 Coping_39 Coping_40 Coping_41 Coping_42  \n",
      "count       5441      5448      5451      5451      5446      5446      5442  \n",
      "unique         4         4         4         4         4         4         4  \n",
      "top            1         4         1         1         1         1         1  \n",
      "freq        2355      1397      2715      2682      2914      2016      2892  \n",
      "mean         NaN       NaN       NaN       NaN       NaN       NaN       NaN  \n",
      "std          NaN       NaN       NaN       NaN       NaN       NaN       NaN  \n",
      "min          NaN       NaN       NaN       NaN       NaN       NaN       NaN  \n",
      "25%          NaN       NaN       NaN       NaN       NaN       NaN       NaN  \n",
      "50%          NaN       NaN       NaN       NaN       NaN       NaN       NaN  \n",
      "75%          NaN       NaN       NaN       NaN       NaN       NaN       NaN  \n",
      "max          NaN       NaN       NaN       NaN       NaN       NaN       NaN  \n",
      "\n",
      "[11 rows x 81 columns]\n"
     ]
    }
   ],
   "source": [
    "convert_to_sqlite_and_analyze(data, db_name='my_database.db', table_name='my_table')"
   ]
  },
  {
   "cell_type": "code",
   "execution_count": 7,
   "id": "7efff5b9",
   "metadata": {},
   "outputs": [],
   "source": [
    "#check_missing_and_plot(data)"
   ]
  },
  {
   "cell_type": "code",
   "execution_count": 8,
   "id": "3e00336d",
   "metadata": {},
   "outputs": [],
   "source": [
    "data = data.drop('date', axis=1) # on utilise pas la date pour les analyses\n",
    "\n",
    "# nettoyer les colonnes object\n",
    "data['age'] = pd.to_numeric(data['age'], errors='coerce')\n",
    "data['ARM_P'] = pd.to_numeric(data['ARM_P'], errors='coerce')\n",
    "data['ARM_R'] = pd.to_numeric(data['ARM_R'], errors='coerce')\n",
    "data['ARM_Total'] = pd.to_numeric(data['ARM_Total'], errors='coerce')\n",
    "data['WCC_P'] = pd.to_numeric(data['WCC_P'], errors='coerce')\n",
    "data['WCC_SS'] = pd.to_numeric(data['WCC_SS'], errors='coerce')\n",
    "data['WCC_B'] = pd.to_numeric(data['WCC_B'], errors='coerce')\n",
    "data['WCC_W'] = pd.to_numeric(data['WCC_W'], errors='coerce')\n",
    "data['WCC_A'] = pd.to_numeric(data['WCC_A'], errors='coerce')\n",
    "\n",
    "# convertir les colonnes object en float\n",
    "data['age'] = data['age'].astype(float)\n",
    "data['ARM_P'] = data['ARM_P'].astype(float)\n",
    "data['ARM_R'] = data['ARM_R'].astype(float)\n",
    "data['ARM_Total'] = data['ARM_Total'].astype(float)\n",
    "data['WCC_P'] = data['WCC_P'].astype(float)\n",
    "data['WCC_SS'] = data['WCC_SS'].astype(float)\n",
    "data['WCC_B'] = data['WCC_B'].astype(float)\n",
    "data['WCC_W'] = data['WCC_W'].astype(float)\n",
    "data['WCC_A'] = data['WCC_A'].astype(float)\n",
    "\n",
    "# remplacer les valeurs manquantes par zéro\n",
    "data = data.fillna(0)\n",
    "\n",
    "# remplacer les valeurs infinies par la valeur maximale de la colonne\n",
    "max_value = data.select_dtypes(include=np.number).max().max()\n",
    "\n",
    "data = data.replace([np.inf, -np.inf], max_value)\n",
    "\n",
    "# convertir les colonnes object en int\n",
    "data['age'] = data['age'].astype(int)\n",
    "data['genderid'] = pd.to_numeric(data['genderid'], errors='coerce').astype(int)\n",
    "data['genderD'] = pd.to_numeric(data['genderD'], errors='coerce').astype(int)\n",
    "data['SexOrientationR'] = pd.to_numeric(data['SexOrientationR'], errors='coerce').astype(int)\n",
    "data['raceD'] = data['raceD'].astype(int)\n",
    "data['canada'] = data['canada'].astype(int)\n",
    "data['provinceCA'] = data['provinceCA'].astype(int)\n",
    "data['sex'] = data['sex'].astype(int)\n",
    "data['genderid'] = data['genderid'].astype(int)\n",
    "data['genderD'] = data['genderD'].astype(int)\n",
    "data['SexOrientationR'] = data['SexOrientationR'].astype(int)\n",
    "data['LGBTQ'] = data['LGBTQ'].astype(int)\n",
    "data['LGBT_Subgroup'] = data['LGBT_Subgroup'].astype(int)\n",
    "\n",
    "columns = ['Resilience_1', 'Resilience_2', 'Resilience_3', 'Resilience_4', 'Resilience_5', 'Resilience_6', 'Resilience_7', 'Resilience_8', 'Resilience_9', 'Resilience_10', 'Resilience_11', 'Resilience_12', 'Resilience_13', 'Resilience_14', 'Resilience_15']\n",
    "new_column_name = 'Resilience_mean'\n",
    "data = add_mean_column(data, columns, new_column_name)"
   ]
  },
  {
   "cell_type": "code",
   "execution_count": 9,
   "id": "ae243e21",
   "metadata": {},
   "outputs": [
    {
     "name": "stdout",
     "output_type": "stream",
     "text": [
      "Précision : 0.74\n"
     ]
    },
    {
     "data": {
      "image/png": "[encoded data removed]",
      "text/plain": [
       "<Figure size 800x600 with 1 Axes>"
      ]
     },
     "metadata": {},
     "output_type": "display_data"
    }
   ],
   "source": [
    "svm_classification(data)"
   ]
  },
  {
   "cell_type": "code",
   "execution_count": 10,
   "id": "151c4447",
   "metadata": {},
   "outputs": [],
   "source": [
    "import numpy as np\n",
    "import matplotlib.pyplot as plt\n",
    "from sklearn.cluster import KMeans\n",
    "from sklearn.metrics import silhouette_score\n",
    "from sklearn.model_selection import ShuffleSplit\n",
    "\n",
    "def kmeans_clustering(data, n_splits=10, n_clusters_range=(2, 10)):\n",
    "    # Sélectionner les colonnes d'intérêt\n",
    "    X = data[['age', 'raceD', 'canada', 'provinceCA', 'SexOrientationR', 'LGBTQ', 'LGBT_Subgroup']]\n",
    "\n",
    "    # Préparer les listes pour stocker les scores de silhouette et les meilleurs modèles pour chaque nombre de clusters\n",
    "    silhouette_scores = []\n",
    "    best_models = []\n",
    "\n",
    "    # Créer un objet ShuffleSplit pour la double validation croisée\n",
    "    cv = ShuffleSplit(n_splits=n_splits, test_size=0.2, random_state=42)\n",
    "\n",
    "    # Itérer sur les nombres de clusters\n",
    "    for n_clusters in range(n_clusters_range[0], n_clusters_range[1] + 1):\n",
    "        # Initialiser une liste pour stocker les scores de silhouette pour chaque itération de la double validation croisée\n",
    "        scores = []\n",
    "\n",
    "        # Itérer sur les splits de la double validation croisée\n",
    "        for train_index, test_index in cv.split(X):\n",
    "            # Extraire les données d'entraînement et de test\n",
    "            X_train, X_test = X.iloc[train_index], X.iloc[test_index]\n",
    "\n",
    "            # Initialiser un modèle K-Means avec le nombre de clusters actuel\n",
    "            model = KMeans(n_clusters=n_clusters, random_state=42)\n",
    "\n",
    "            # Entraîner le modèle sur les données d'entraînement\n",
    "            model.fit(X_train)\n",
    "\n",
    "            # Calculer le score de silhouette sur les données de test\n",
    "            score = silhouette_score(X_test, model.labels_)\n",
    "\n",
    "            # Ajouter le score à la liste\n",
    "            scores.append(score)\n",
    "\n",
    "        # Calculer la moyenne des scores de silhouette pour le nombre de clusters actuel\n",
    "        mean_score = np.mean(scores)\n",
    "\n",
    "        # Ajouter le score moyen à la liste des scores de silhouette\n",
    "        silhouette_scores.append(mean_score)\n",
    "\n",
    "        # Enregistrer le meilleur modèle pour le nombre de clusters actuel\n",
    "        best_model = KMeans(n_clusters=n_clusters, random_state=42).fit(X)\n",
    "\n",
    "        # Ajouter le meilleur modèle à la liste des meilleurs modèles\n",
    "        best_models.append(best_model)\n",
    "\n",
    "    # Tracer le graphique de silhouette pour les différents nombres de clusters\n",
    "    plt.plot(range(n_clusters_range[0], n_clusters_range[1] + 1), silhouette_scores, '-o')\n",
    "    plt.xlabel('Nombre de clusters')\n",
    "    plt.ylabel('Score de silhouette')\n",
    "    plt.title('Score de silhouette pour différents nombres de clusters')\n",
    "    plt.show()\n",
    "\n",
    "    # Retourner la liste des meilleurs modèles\n",
    "    return best_models"
   ]
  },
  {
   "cell_type": "code",
   "execution_count": 11,
   "id": "fc61e442",
   "metadata": {},
   "outputs": [
    {
     "ename": "ValueError",
     "evalue": "Found input variables with inconsistent numbers of samples: [1923, 7692]",
     "output_type": "error",
     "traceback": [
      "\u001b[0;31m---------------------------------------------------------------------------\u001b[0m",
      "\u001b[0;31mValueError\u001b[0m                                Traceback (most recent call last)",
      "\u001b[0;32m/var/folders/1t/m_ny6jj121304b52s3qrp6dm0000gn/T/ipykernel_19403/3041520732.py\u001b[0m in \u001b[0;36m<module>\u001b[0;34m\u001b[0m\n\u001b[0;32m----> 1\u001b[0;31m \u001b[0mkmeans_clustering\u001b[0m\u001b[0;34m(\u001b[0m\u001b[0mdata\u001b[0m\u001b[0;34m)\u001b[0m\u001b[0;34m\u001b[0m\u001b[0;34m\u001b[0m\u001b[0m\n\u001b[0m",
      "\u001b[0;32m/var/folders/1t/m_ny6jj121304b52s3qrp6dm0000gn/T/ipykernel_19403/986473488.py\u001b[0m in \u001b[0;36mkmeans_clustering\u001b[0;34m(data, n_splits, n_clusters_range)\u001b[0m\n\u001b[1;32m     33\u001b[0m \u001b[0;34m\u001b[0m\u001b[0m\n\u001b[1;32m     34\u001b[0m             \u001b[0;31m# Calculer le score de silhouette sur les données de test\u001b[0m\u001b[0;34m\u001b[0m\u001b[0;34m\u001b[0m\u001b[0m\n\u001b[0;32m---> 35\u001b[0;31m             \u001b[0mscore\u001b[0m \u001b[0;34m=\u001b[0m \u001b[0msilhouette_score\u001b[0m\u001b[0;34m(\u001b[0m\u001b[0mX_test\u001b[0m\u001b[0;34m,\u001b[0m \u001b[0mmodel\u001b[0m\u001b[0;34m.\u001b[0m\u001b[0mlabels_\u001b[0m\u001b[0;34m)\u001b[0m\u001b[0;34m\u001b[0m\u001b[0;34m\u001b[0m\u001b[0m\n\u001b[0m\u001b[1;32m     36\u001b[0m \u001b[0;34m\u001b[0m\u001b[0m\n\u001b[1;32m     37\u001b[0m             \u001b[0;31m# Ajouter le score à la liste\u001b[0m\u001b[0;34m\u001b[0m\u001b[0;34m\u001b[0m\u001b[0m\n",
      "\u001b[0;32m~/opt/anaconda3/lib/python3.9/site-packages/sklearn/metrics/cluster/_unsupervised.py\u001b[0m in \u001b[0;36msilhouette_score\u001b[0;34m(X, labels, metric, sample_size, random_state, **kwds)\u001b[0m\n\u001b[1;32m    115\u001b[0m         \u001b[0;32melse\u001b[0m\u001b[0;34m:\u001b[0m\u001b[0;34m\u001b[0m\u001b[0;34m\u001b[0m\u001b[0m\n\u001b[1;32m    116\u001b[0m             \u001b[0mX\u001b[0m\u001b[0;34m,\u001b[0m \u001b[0mlabels\u001b[0m \u001b[0;34m=\u001b[0m \u001b[0mX\u001b[0m\u001b[0;34m[\u001b[0m\u001b[0mindices\u001b[0m\u001b[0;34m]\u001b[0m\u001b[0;34m,\u001b[0m \u001b[0mlabels\u001b[0m\u001b[0;34m[\u001b[0m\u001b[0mindices\u001b[0m\u001b[0;34m]\u001b[0m\u001b[0;34m\u001b[0m\u001b[0;34m\u001b[0m\u001b[0m\n\u001b[0;32m--> 117\u001b[0;31m     \u001b[0;32mreturn\u001b[0m \u001b[0mnp\u001b[0m\u001b[0;34m.\u001b[0m\u001b[0mmean\u001b[0m\u001b[0;34m(\u001b[0m\u001b[0msilhouette_samples\u001b[0m\u001b[0;34m(\u001b[0m\u001b[0mX\u001b[0m\u001b[0;34m,\u001b[0m \u001b[0mlabels\u001b[0m\u001b[0;34m,\u001b[0m \u001b[0mmetric\u001b[0m\u001b[0;34m=\u001b[0m\u001b[0mmetric\u001b[0m\u001b[0;34m,\u001b[0m \u001b[0;34m**\u001b[0m\u001b[0mkwds\u001b[0m\u001b[0;34m)\u001b[0m\u001b[0;34m)\u001b[0m\u001b[0;34m\u001b[0m\u001b[0;34m\u001b[0m\u001b[0m\n\u001b[0m\u001b[1;32m    118\u001b[0m \u001b[0;34m\u001b[0m\u001b[0m\n\u001b[1;32m    119\u001b[0m \u001b[0;34m\u001b[0m\u001b[0m\n",
      "\u001b[0;32m~/opt/anaconda3/lib/python3.9/site-packages/sklearn/metrics/cluster/_unsupervised.py\u001b[0m in \u001b[0;36msilhouette_samples\u001b[0;34m(X, labels, metric, **kwds)\u001b[0m\n\u001b[1;32m    210\u001b[0m        \u001b[0;34m<\u001b[0m\u001b[0mhttps\u001b[0m\u001b[0;34m:\u001b[0m\u001b[0;34m//\u001b[0m\u001b[0men\u001b[0m\u001b[0;34m.\u001b[0m\u001b[0mwikipedia\u001b[0m\u001b[0;34m.\u001b[0m\u001b[0morg\u001b[0m\u001b[0;34m/\u001b[0m\u001b[0mwiki\u001b[0m\u001b[0;34m/\u001b[0m\u001b[0mSilhouette_\u001b[0m\u001b[0;34m(\u001b[0m\u001b[0mclustering\u001b[0m\u001b[0;34m)\u001b[0m\u001b[0;34m>\u001b[0m\u001b[0;31m`\u001b[0m\u001b[0m_\u001b[0m\u001b[0;34m\u001b[0m\u001b[0;34m\u001b[0m\u001b[0m\n\u001b[1;32m    211\u001b[0m     \"\"\"\n\u001b[0;32m--> 212\u001b[0;31m     \u001b[0mX\u001b[0m\u001b[0;34m,\u001b[0m \u001b[0mlabels\u001b[0m \u001b[0;34m=\u001b[0m \u001b[0mcheck_X_y\u001b[0m\u001b[0;34m(\u001b[0m\u001b[0mX\u001b[0m\u001b[0;34m,\u001b[0m \u001b[0mlabels\u001b[0m\u001b[0;34m,\u001b[0m \u001b[0maccept_sparse\u001b[0m\u001b[0;34m=\u001b[0m\u001b[0;34m[\u001b[0m\u001b[0;34m\"csc\"\u001b[0m\u001b[0;34m,\u001b[0m \u001b[0;34m\"csr\"\u001b[0m\u001b[0;34m]\u001b[0m\u001b[0;34m)\u001b[0m\u001b[0;34m\u001b[0m\u001b[0;34m\u001b[0m\u001b[0m\n\u001b[0m\u001b[1;32m    213\u001b[0m \u001b[0;34m\u001b[0m\u001b[0m\n\u001b[1;32m    214\u001b[0m     \u001b[0;31m# Check for non-zero diagonal entries in precomputed distance matrix\u001b[0m\u001b[0;34m\u001b[0m\u001b[0;34m\u001b[0m\u001b[0m\n",
      "\u001b[0;32m~/opt/anaconda3/lib/python3.9/site-packages/sklearn/utils/validation.py\u001b[0m in \u001b[0;36mcheck_X_y\u001b[0;34m(X, y, accept_sparse, accept_large_sparse, dtype, order, copy, force_all_finite, ensure_2d, allow_nd, multi_output, ensure_min_samples, ensure_min_features, y_numeric, estimator)\u001b[0m\n\u001b[1;32m    979\u001b[0m     \u001b[0my\u001b[0m \u001b[0;34m=\u001b[0m \u001b[0m_check_y\u001b[0m\u001b[0;34m(\u001b[0m\u001b[0my\u001b[0m\u001b[0;34m,\u001b[0m \u001b[0mmulti_output\u001b[0m\u001b[0;34m=\u001b[0m\u001b[0mmulti_output\u001b[0m\u001b[0;34m,\u001b[0m \u001b[0my_numeric\u001b[0m\u001b[0;34m=\u001b[0m\u001b[0my_numeric\u001b[0m\u001b[0;34m)\u001b[0m\u001b[0;34m\u001b[0m\u001b[0;34m\u001b[0m\u001b[0m\n\u001b[1;32m    980\u001b[0m \u001b[0;34m\u001b[0m\u001b[0m\n\u001b[0;32m--> 981\u001b[0;31m     \u001b[0mcheck_consistent_length\u001b[0m\u001b[0;34m(\u001b[0m\u001b[0mX\u001b[0m\u001b[0;34m,\u001b[0m \u001b[0my\u001b[0m\u001b[0;34m)\u001b[0m\u001b[0;34m\u001b[0m\u001b[0;34m\u001b[0m\u001b[0m\n\u001b[0m\u001b[1;32m    982\u001b[0m \u001b[0;34m\u001b[0m\u001b[0m\n\u001b[1;32m    983\u001b[0m     \u001b[0;32mreturn\u001b[0m \u001b[0mX\u001b[0m\u001b[0;34m,\u001b[0m \u001b[0my\u001b[0m\u001b[0;34m\u001b[0m\u001b[0;34m\u001b[0m\u001b[0m\n",
      "\u001b[0;32m~/opt/anaconda3/lib/python3.9/site-packages/sklearn/utils/validation.py\u001b[0m in \u001b[0;36mcheck_consistent_length\u001b[0;34m(*arrays)\u001b[0m\n\u001b[1;32m    330\u001b[0m     \u001b[0muniques\u001b[0m \u001b[0;34m=\u001b[0m \u001b[0mnp\u001b[0m\u001b[0;34m.\u001b[0m\u001b[0munique\u001b[0m\u001b[0;34m(\u001b[0m\u001b[0mlengths\u001b[0m\u001b[0;34m)\u001b[0m\u001b[0;34m\u001b[0m\u001b[0;34m\u001b[0m\u001b[0m\n\u001b[1;32m    331\u001b[0m     \u001b[0;32mif\u001b[0m \u001b[0mlen\u001b[0m\u001b[0;34m(\u001b[0m\u001b[0muniques\u001b[0m\u001b[0;34m)\u001b[0m \u001b[0;34m>\u001b[0m \u001b[0;36m1\u001b[0m\u001b[0;34m:\u001b[0m\u001b[0;34m\u001b[0m\u001b[0;34m\u001b[0m\u001b[0m\n\u001b[0;32m--> 332\u001b[0;31m         raise ValueError(\n\u001b[0m\u001b[1;32m    333\u001b[0m             \u001b[0;34m\"Found input variables with inconsistent numbers of samples: %r\"\u001b[0m\u001b[0;34m\u001b[0m\u001b[0;34m\u001b[0m\u001b[0m\n\u001b[1;32m    334\u001b[0m             \u001b[0;34m%\u001b[0m \u001b[0;34m[\u001b[0m\u001b[0mint\u001b[0m\u001b[0;34m(\u001b[0m\u001b[0ml\u001b[0m\u001b[0;34m)\u001b[0m \u001b[0;32mfor\u001b[0m \u001b[0ml\u001b[0m \u001b[0;32min\u001b[0m \u001b[0mlengths\u001b[0m\u001b[0;34m]\u001b[0m\u001b[0;34m\u001b[0m\u001b[0;34m\u001b[0m\u001b[0m\n",
      "\u001b[0;31mValueError\u001b[0m: Found input variables with inconsistent numbers of samples: [1923, 7692]"
     ]
    }
   ],
   "source": [
    "kmeans_clustering(data)"
   ]
  },
  {
   "cell_type": "code",
   "execution_count": null,
   "id": "16ad5028",
   "metadata": {},
   "outputs": [],
   "source": []
  }
 ],
 "metadata": {
  "kernelspec": {
   "display_name": "Python 3 (ipykernel)",
   "language": "python",
   "name": "python3"
  },
  "language_info": {
   "codemirror_mode": {
    "name": "ipython",
    "version": 3
   },
   "file_extension": ".py",
   "mimetype": "text/x-python",
   "name": "python",
   "nbconvert_exporter": "python",
   "pygments_lexer": "ipython3",
   "version": "3.9.13"
  }
 },
 "nbformat": 4,
 "nbformat_minor": 5
}
